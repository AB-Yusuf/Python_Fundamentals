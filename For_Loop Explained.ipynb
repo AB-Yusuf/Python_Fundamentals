{
 "cells": [
  {
   "cell_type": "markdown",
   "metadata": {},
   "source": [
    "What is an **Iterable** ?\n",
    "An Iterable is anything you can iterate over.\n",
    "\n",
    "Analogy:\n",
    "You have a Box with different balls in it.\n",
    "The box is an iterable if it has the\n",
    "property of showing each ball one at a\n",
    "time.\n",
    "\n",
    "Iterable simply means an object that allows\n",
    "allows repitiove processes.\n",
    "This mean they alow an operation to be performed \n",
    "on them repititively.\n",
    "\n",
    "Analogy:\n",
    "That same box containing the ball.\n",
    "It allows an operation of displaying each\n",
    "ball to be performed on it continously.\n",
    "That is why the box is called an Iterable.\n",
    "\n",
    "Analogy:\n",
    "As humans We are an Iterable object.\n",
    "Because we allow the operation of breathing in\n",
    "and out to be performed by our nose or mouth\n",
    "repititively.\n",
    "\n",
    "The main point is anything that gives room for \n",
    "repitition of a particular operation can be called \n",
    "an iterable.\n",
    "\n",
    "Let's Apply this to programming.\n",
    "Understanding how the for loop works and \n",
    "how to interprete a for loop code\n"
   ]
  },
  {
   "cell_type": "markdown",
   "metadata": {},
   "source": [
    "What is an Iterator?\n",
    "It is a particular process or operation\n",
    "to be performed on an Iterable repitively.\n",
    "\n",
    "The continous process to be performed on\n",
    "an iterable is an iterator"
   ]
  },
  {
   "cell_type": "code",
   "execution_count": 1,
   "metadata": {},
   "outputs": [
    {
     "name": "stdout",
     "output_type": "stream",
     "text": [
      "1\n",
      "2\n",
      "3\n",
      "4\n",
      "5\n"
     ]
    },
    {
     "data": {
      "text/plain": [
       "list"
      ]
     },
     "execution_count": 1,
     "metadata": {},
     "output_type": "execute_result"
    }
   ],
   "source": [
    "#An Iterable creates its own Iterator\n",
    "#Iterable has its own built in __iter__ method\n",
    "#Which is used to create an Iterator\n",
    "\n",
    "#In code an iterator is an object created from\n",
    "#calling the __iter__() method\n",
    "# For the __iter__() method to function optimally\n",
    "#It makes use of the __next__() method\n",
    "\n",
    "naturalNumbers = [1, 2, 3, 4, 5]\n",
    "\n",
    "for i in naturalNumbers:\n",
    "    print(i)\n",
    "\n",
    "#naturalNumber is an object that is a of a list feature\n",
    "#To be able to display each element in that list\n",
    "#naturalNumbers has to be an iterable\n",
    "#So it calls the __iter__() method to make it an\n",
    "#iterable List object\n",
    "#That is it allows for  repitive operations to be \n",
    "#performed on it.\n",
    "#Then which the __next__() method the next element in an\n",
    "#iterable is called\n",
    "#The for loop and loops generally work by iterations\n",
    "#and only work on things that are iterable."
   ]
  },
  {
   "cell_type": "code",
   "execution_count": null,
   "metadata": {},
   "outputs": [],
   "source": []
  }
 ],
 "metadata": {
  "kernelspec": {
   "display_name": "Python 3",
   "language": "python",
   "name": "python3"
  },
  "language_info": {
   "codemirror_mode": {
    "name": "ipython",
    "version": 3
   },
   "file_extension": ".py",
   "mimetype": "text/x-python",
   "name": "python",
   "nbconvert_exporter": "python",
   "pygments_lexer": "ipython3",
   "version": "3.6.4"
  }
 },
 "nbformat": 4,
 "nbformat_minor": 2
}
